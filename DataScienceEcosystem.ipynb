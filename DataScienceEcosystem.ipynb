{
 "cells": [
  {
   "cell_type": "markdown",
   "id": "e2aeb3ed-62f4-468b-a0f9-b33485a55111",
   "metadata": {},
   "source": [
    "# Data Science Tools and Ecosystem"
   ]
  },
  {
   "cell_type": "markdown",
   "id": "030e6ab8-37ec-4aac-a9af-b220b942cb70",
   "metadata": {
    "tags": []
   },
   "source": [
    "In this notebook, Data Science Tools and Ecosystem are summarized.\n"
   ]
  },
  {
   "cell_type": "markdown",
   "id": "b1128639-309b-4d84-9e51-b212cb62f224",
   "metadata": {
    "tags": []
   },
   "source": [
    "**Objectives:**\n",
    "\n",
    "* List popular languages that Data Scientists\n",
    "* List  commonly used libraries used by Data Scientists\n",
    "* List Tools used by Data Scientists"
   ]
  },
  {
   "cell_type": "markdown",
   "id": "0143325e-1fd0-4ff8-8079-30d1a55c7a04",
   "metadata": {},
   "source": [
    "Some of the popular languages that Data Scientists use are:\n",
    "1. Python\n",
    "2. R\n",
    "3. SQL"
   ]
  },
  {
   "cell_type": "markdown",
   "id": "c8c09315-eb73-4281-bbc9-3601db95cc06",
   "metadata": {},
   "source": [
    "Some of the commonly used libraries used by Data Scientists include:\n",
    "\n",
    "1. Pandas\n",
    "2. Scikit-Learn\n",
    "3. Numpy"
   ]
  },
  {
   "cell_type": "markdown",
   "id": "d06641ae-fc97-4854-bb41-c82f22fd222b",
   "metadata": {
    "tags": []
   },
   "source": [
    "Data Science Tools\n",
    "\n",
    "|Tools|\n",
    "|:-|\n",
    "|Anaconda|\n",
    "|Jupyter Notebook|\n",
    "|IBM Watson Studio|"
   ]
  },
  {
   "cell_type": "code",
   "execution_count": 5,
   "id": "d74998e9-ea3a-4077-b098-a349f98d28e2",
   "metadata": {
    "tags": []
   },
   "outputs": [
    {
     "name": "stdout",
     "output_type": "stream",
     "text": [
      "25\n"
     ]
    }
   ],
   "source": [
    "# Below are a few examples of evaluating arithmetic expressions in Python.\n",
    "\n",
    "d = 5*5\n",
    "print(d)\n",
    "\n",
    "#Result = 25"
   ]
  },
  {
   "cell_type": "code",
   "execution_count": 6,
   "id": "f1a641d4-9895-494a-ad94-abf23218fec4",
   "metadata": {
    "tags": []
   },
   "outputs": [
    {
     "data": {
      "text/plain": [
       "17"
      ]
     },
     "execution_count": 6,
     "metadata": {},
     "output_type": "execute_result"
    }
   ],
   "source": [
    "#This a simple arithmetic expression to mutiply then add integers\n",
    "(3*4)+5"
   ]
  },
  {
   "cell_type": "code",
   "execution_count": 8,
   "id": "2fc3167a-f2a5-40a1-98c8-479acfad8a63",
   "metadata": {
    "tags": []
   },
   "outputs": [
    {
     "name": "stdout",
     "output_type": "stream",
     "text": [
      "3.3333333333333335\n"
     ]
    }
   ],
   "source": [
    "#This will convert 200 minutes to hours by diving by 60\n",
    "\n",
    "hours = 200 / 60\n",
    "print(hours)"
   ]
  },
  {
   "cell_type": "markdown",
   "id": "b0bfcce7-88d9-4439-b907-514f32e94930",
   "metadata": {},
   "source": [
    "m"
   ]
  }
 ],
 "metadata": {
  "kernelspec": {
   "display_name": "Python",
   "language": "python",
   "name": "conda-env-python-py"
  },
  "language_info": {
   "codemirror_mode": {
    "name": "ipython",
    "version": 3
   },
   "file_extension": ".py",
   "mimetype": "text/x-python",
   "name": "python",
   "nbconvert_exporter": "python",
   "pygments_lexer": "ipython3",
   "version": "3.7.12"
  }
 },
 "nbformat": 4,
 "nbformat_minor": 5
}
